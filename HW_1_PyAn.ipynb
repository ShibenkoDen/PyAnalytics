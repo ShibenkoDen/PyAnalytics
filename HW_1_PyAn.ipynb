{
  "nbformat": 4,
  "nbformat_minor": 0,
  "metadata": {
    "colab": {
      "provenance": []
    },
    "kernelspec": {
      "name": "python3",
      "display_name": "Python 3"
    },
    "language_info": {
      "name": "python"
    }
  },
  "cells": [
    {
      "cell_type": "markdown",
      "source": [
        "##Задача 1\n",
        "На складе лежат разные фрукты в разном количестве.\n",
        "Нужно написать функцию, которая на вход принимает любое количество названий фруктов и их количество, а возвращает общее количество фруктов на складе"
      ],
      "metadata": {
        "id": "N9hC_rnqI_6x"
      }
    },
    {
      "cell_type": "code",
      "execution_count": 14,
      "metadata": {
        "colab": {
          "base_uri": "https://localhost:8080/"
        },
        "id": "eZiGj3nzI82R",
        "outputId": "675dcc4b-6ea7-4e0d-ad4e-448a43a42864"
      },
      "outputs": [
        {
          "output_type": "execute_result",
          "data": {
            "text/plain": [
              "22"
            ]
          },
          "metadata": {},
          "execution_count": 14
        }
      ],
      "source": [
        "def sum_fruits(**fruits):\n",
        "  sum_fruits = 0\n",
        "  for fruit in fruits:\n",
        "    sum_fruits += fruits[fruit]\n",
        "  return sum_fruits\n",
        "\n",
        "fruits = {\n",
        "    'banana': 10,\n",
        "    'apple': 5,\n",
        "    'orange': 7\n",
        "    }\n",
        "\n",
        "sum_fruits(**fruits)"
      ]
    },
    {
      "cell_type": "markdown",
      "source": [
        "##Задача 2\n",
        "Дан список с затратами на рекламу. Но в данных есть ошибки, некоторые затраты имеют отрицательную величину. Удалите такие значения из списка и посчитайте суммарные затраты\n",
        "Используйте list comprehensions"
      ],
      "metadata": {
        "id": "Tzjzef2AMr0e"
      }
    },
    {
      "cell_type": "code",
      "source": [
        "price = [100, 125, -90, 345, 655, -1, 0, 200]\n",
        "\n",
        "new_price = [i for i in price if i >= 0]\n",
        "print(new_price)\n",
        "total = 0\n",
        "for j in new_price:\n",
        "  total += j\n",
        "print(total)"
      ],
      "metadata": {
        "colab": {
          "base_uri": "https://localhost:8080/"
        },
        "id": "kBYEn-glMx5O",
        "outputId": "62714ff0-7c64-4883-dfab-e3216bbc7474"
      },
      "execution_count": 25,
      "outputs": [
        {
          "output_type": "stream",
          "name": "stdout",
          "text": [
            "[100, 125, 345, 655, 0, 200]\n",
            "1425\n"
          ]
        }
      ]
    },
    {
      "cell_type": "markdown",
      "source": [
        "##Задача 3\n",
        "Даны два списка: <br>\n",
        "Дата покупки <br>\n",
        "Суммы покупок по датам\n",
        "###4.1.\n",
        "Найдите, какая выручка у компании в ноябре Используйте list comprehensions"
      ],
      "metadata": {
        "id": "AsI_bZ1bPaM4"
      }
    },
    {
      "cell_type": "code",
      "source": [
        "date = ['2021-09-14', '2021-12-15', '2021-09-08', '2021-12-05', '2021-10-09', '2021-09-30', '2021-12-22', '2021-11-29', '2021-12-24', '2021-11-26', '2021-10-27', '2021-12-18', '2021-11-09', '2021-11-23', '2021-09-27', '2021-10-02', '2021-12-27', '2021-09-20', '2021-12-13', '2021-11-01', '2021-11-09', '2021-12-06', '2021-12-08', '2021-10-09', '2021-10-31', '2021-09-30', '2021-11-09', '2021-12-13', '2021-10-26', '2021-12-09']\n",
        "value = [1270, 8413, 9028, 3703, 5739, 4095, 295, 4944, 5723, 3701, 4471, 651, 7037, 4274, 6275, 4988, 6930, 2971, 6592, 2004, 2822, 519, 3406, 2732, 5015, 2008, 316, 6333, 5700, 2887]\n",
        "\n",
        "print(sum([v for d, v in zip(date, value) if d[5:7] == \"11\"]))\n",
        "\n"
      ],
      "metadata": {
        "colab": {
          "base_uri": "https://localhost:8080/"
        },
        "id": "q52JPaWSPvWW",
        "outputId": "ca84d9ac-fee6-4e7b-abdc-b3986c772079"
      },
      "execution_count": 60,
      "outputs": [
        {
          "output_type": "stream",
          "name": "stdout",
          "text": [
            "25098\n"
          ]
        }
      ]
    },
    {
      "cell_type": "markdown",
      "source": [
        "###4.2\n",
        "Найдите выручку компании в зависимости от месяца\n",
        "Для этого напишите функцию, которая на вход принимает список с датами и список с выручкой, а на выходе словарь, где ключи - это месяцы, а значения - это выручка.\n",
        "Используйте аннотирование типов."
      ],
      "metadata": {
        "id": "rblvsjISk2ZQ"
      }
    },
    {
      "cell_type": "code",
      "source": [
        "def sum_in_month(date: list, value: list) -> dict:\n",
        "  res = {}\n",
        "  for d, v in zip(date, value):\n",
        "    if d[5:7] in res.keys():\n",
        "      res[d[5:7]] += v\n",
        "    else:\n",
        "      res[d[5:7]] = v\n",
        "  return res\n",
        "\n",
        "print(sum_in_month(date, value))"
      ],
      "metadata": {
        "colab": {
          "base_uri": "https://localhost:8080/"
        },
        "id": "7gHNEIDHk6Xq",
        "outputId": "903af09f-f172-4e09-d3f6-5f419fbe8b91"
      },
      "execution_count": 61,
      "outputs": [
        {
          "output_type": "stream",
          "name": "stdout",
          "text": [
            "{'09': 25647, '12': 45452, '10': 28645, '11': 25098}\n"
          ]
        }
      ]
    }
  ]
}